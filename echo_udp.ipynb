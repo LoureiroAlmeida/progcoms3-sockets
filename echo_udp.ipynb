{
 "cells": [
  {
   "cell_type": "markdown",
   "metadata": {},
   "source": [
    "# Echo Service\n",
    "\n",
    "The echo service consists of two main processes:\n",
    "1. Client: sends a text to the server\n",
    "2. Server: responds to the client with the same text\n",
    "\n",
    "## We will divide the problem into 5 parts\n",
    "\n",
    "1. Send the text over the network\n",
    "2. Recive the text from a peer\n",
    "3. Process this text\n",
    "4. Build a permanent process that listens to the network\n",
    "5. Make the client listen too"
   ]
  },
  {
   "cell_type": "markdown",
   "metadata": {},
   "source": [
    "## 1. Send text over the network"
   ]
  },
  {
   "cell_type": "code",
   "execution_count": 2,
   "metadata": {
    "collapsed": false
   },
   "outputs": [
    {
     "name": "stderr",
     "output_type": "stream",
     "text": [
      "sending \"This is the message.  It will be repeated.\"\n",
      "closing socket\n"
     ]
    }
   ],
   "source": [
    "import socket\n",
    "import sys\n",
    "\n",
    "# Create a UDP socket\n",
    "sock = socket.socket(socket.AF_INET, socket.SOCK_DGRAM)\n",
    "\n",
    "server_address = ('localhost', 10000)\n",
    "message = 'This is the message.  It will be repeated.'\n",
    "\n",
    "try:\n",
    "\n",
    "    # Send data\n",
    "    print >>sys.stderr, 'sending \"%s\"' % message\n",
    "    sent = sock.sendto(message, server_address)\n",
    "\n",
    "finally:\n",
    "    print >>sys.stderr, 'closing socket'\n",
    "    sock.close()"
   ]
  },
  {
   "cell_type": "markdown",
   "metadata": {},
   "source": [
    "## 2. Recieve the text from a peer"
   ]
  },
  {
   "cell_type": "code",
   "execution_count": null,
   "metadata": {
    "collapsed": true
   },
   "outputs": [],
   "source": [
    "import socket\n",
    "import sys\n",
    "\n",
    "# Create a TCP/IP socket\n",
    "sock = socket.socket(socket.AF_INET, socket.SOCK_DGRAM)\n",
    "\n",
    "# Bind the socket to the port\n",
    "server_address = ('localhost', 10000)\n",
    "print >>sys.stderr, 'starting up on %s port %s' % server_address\n",
    "sock.bind(server_address)\n",
    "\n",
    "print >>sys.stderr, '\\nwaiting to receive message'\n",
    "data, address = sock.recvfrom(4096)\n",
    "\n",
    "print >>sys.stderr, 'received %s bytes from %s' % (len(data), address)\n",
    "print >>sys.stderr, data"
   ]
  },
  {
   "cell_type": "markdown",
   "metadata": {},
   "source": [
    "## 3. Process the text"
   ]
  },
  {
   "cell_type": "code",
   "execution_count": null,
   "metadata": {
    "collapsed": true
   },
   "outputs": [],
   "source": [
    "import socket\n",
    "import sys\n",
    "\n",
    "# Create a TCP/IP socket\n",
    "sock = socket.socket(socket.AF_INET, socket.SOCK_DGRAM)\n",
    "\n",
    "# Bind the socket to the port\n",
    "server_address = ('localhost', 10000)\n",
    "print >>sys.stderr, 'starting up on %s port %s' % server_address\n",
    "sock.bind(server_address)\n",
    "\n",
    "print >>sys.stderr, '\\nwaiting to receive message'\n",
    "data, address = sock.recvfrom(4096)\n",
    "\n",
    "print >>sys.stderr, 'received %s bytes from %s' % (len(data), address)\n",
    "print >>sys.stderr, data\n",
    "\n",
    "if data:\n",
    "    sent = sock.sendto(data, address)\n",
    "    print >>sys.stderr, 'sent %s bytes back to %s' % (sent, address)"
   ]
  },
  {
   "cell_type": "markdown",
   "metadata": {},
   "source": [
    "## 4. Permanent process"
   ]
  },
  {
   "cell_type": "code",
   "execution_count": null,
   "metadata": {
    "collapsed": true
   },
   "outputs": [],
   "source": [
    "import socket\n",
    "import sys\n",
    "\n",
    "# Create a TCP/IP socket\n",
    "sock = socket.socket(socket.AF_INET, socket.SOCK_DGRAM)\n",
    "\n",
    "# Bind the socket to the port\n",
    "server_address = ('localhost', 10000)\n",
    "print >>sys.stderr, 'starting up on %s port %s' % server_address\n",
    "sock.bind(server_address)\n",
    "\n",
    "while True:\n",
    "    print >>sys.stderr, '\\nwaiting to receive message'\n",
    "    data, address = sock.recvfrom(4096)\n",
    "    \n",
    "    print >>sys.stderr, 'received %s bytes from %s' % (len(data), address)\n",
    "    print >>sys.stderr, data\n",
    "    \n",
    "    if data:\n",
    "        sent = sock.sendto(data, address)\n",
    "        print >>sys.stderr, 'sent %s bytes back to %s' % (sent, address)"
   ]
  },
  {
   "cell_type": "markdown",
   "metadata": {},
   "source": [
    "## 5. Finish the client"
   ]
  },
  {
   "cell_type": "code",
   "execution_count": null,
   "metadata": {
    "collapsed": true
   },
   "outputs": [],
   "source": [
    "import socket\n",
    "import sys\n",
    "\n",
    "# Create a UDP socket\n",
    "sock = socket.socket(socket.AF_INET, socket.SOCK_DGRAM)\n",
    "\n",
    "server_address = ('localhost', 10000)\n",
    "message = 'This is the message.  It will be repeated.'\n",
    "\n",
    "try:\n",
    "\n",
    "    # Send data\n",
    "    print >>sys.stderr, 'sending \"%s\"' % message\n",
    "    sent = sock.sendto(message, server_address)\n",
    "\n",
    "    # Receive response\n",
    "    print >>sys.stderr, 'waiting to receive'\n",
    "    data, server = sock.recvfrom(4096)\n",
    "    print >>sys.stderr, 'received \"%s\"' % data\n",
    "\n",
    "finally:\n",
    "    print >>sys.stderr, 'closing socket'\n",
    "    sock.close()"
   ]
  }
 ],
 "metadata": {
  "kernelspec": {
   "display_name": "Python 2",
   "language": "python",
   "name": "python2"
  },
  "language_info": {
   "codemirror_mode": {
    "name": "ipython",
    "version": 2
   },
   "file_extension": ".py",
   "mimetype": "text/x-python",
   "name": "python",
   "nbconvert_exporter": "python",
   "pygments_lexer": "ipython2",
   "version": "2.7.13"
  }
 },
 "nbformat": 4,
 "nbformat_minor": 0
}
